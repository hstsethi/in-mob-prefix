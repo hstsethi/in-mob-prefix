{
 "cells": [
  {
   "cell_type": "markdown",
   "id": "110aa831-2e9d-4cda-b849-94490b4b4c63",
   "metadata": {},
   "source": [
    "## About Dataset\n",
    "\n",
    "Phone numbers in India are a set of unique 10 digit numbers. Out of which, first 4 digits, which range from 6xxx - 9xxx, are network operator and circle code. Last six are random. This is a dataset of first four numbers with their respective state, operator name.\n"
   ]
  },
  {
   "cell_type": "code",
   "execution_count": null,
   "id": "deeb143f-65ee-4b9b-b2db-a9aae567c2df",
   "metadata": {},
   "outputs": [],
   "source": []
  },
  {
   "cell_type": "markdown",
   "id": "cdba16af",
   "metadata": {},
   "source": [
    "## Importing Neccessary Libraries"
   ]
  },
  {
   "cell_type": "code",
   "execution_count": 1,
   "id": "18c71147",
   "metadata": {},
   "outputs": [],
   "source": [
    "import matplotlib.pyplot as plt\n",
    "import pandas as pd"
   ]
  },
  {
   "cell_type": "code",
   "execution_count": 14,
   "id": "cac1d855-56ab-41aa-b41d-e009da0c3384",
   "metadata": {},
   "outputs": [],
   "source": [
    "def plotPrefixChart(filename : str, kind, column, prefix):\n",
    "    data = pd.read_csv(filename)\n",
    "    data.drop_duplicates(inplace = True)\n",
    "    if column.lower() == \"operator\":\n",
    "        data.dropna(inplace = True, subset=[\"circle\"])\n",
    "    elif column.lower == \"circle\":\n",
    "        data.dropna(inplace = True, subset=[\"operator\"])\n",
    "    else:\n",
    "        print(\"Invalid column argument provided:\", column)\n",
    "        return 1\n",
    "    data = data[column].value_counts().plot(kind=kind, title=f\"Mobile Numbers Starting from {prefix} By {column}\")\n",
    "    filename = prefix + \"-\" + column.lower() + \"-\" + kind #.png will be added automatically \n",
    "    plt.savefig(filename)\n",
    "    "
   ]
  },
  {
   "cell_type": "code",
   "execution_count": 15,
   "id": "4bbf429f-2aaa-4676-aca7-c6b6455d05f4",
   "metadata": {},
   "outputs": [
    {
     "name": "stdout",
     "output_type": "stream",
     "text": [
      "Invalid column argument provided: circle\n",
      "Invalid column argument provided: circle\n",
      "Invalid column argument provided: circle\n",
      "Invalid column argument provided: circle\n"
     ]
    },
    {
     "data": {
      "text/plain": [
       "1"
      ]
     },
     "execution_count": 15,
     "metadata": {},
     "output_type": "execute_result"
    },
    {
     "data": {
      "image/png": "[encoded data removed]",
      "text/plain": [
       "<Figure size 640x480 with 1 Axes>"
      ]
     },
     "metadata": {},
     "output_type": "display_data"
    }
   ],
   "source": [
    "plotPrefixChart(\"../data/9xxx-in-mob-prefix.csv\", \"bar\", \"operator\", \"9xxx\")\n",
    "plotPrefixChart(\"../data/9xxx-in-mob-prefix.csv\", \"bar\", \"circle\", \"9xxx\")\n",
    "\n",
    "## Plotting for 8xxx\n",
    "\n",
    "plotPrefixChart(\"../data/8xxx-in-mob-prefix.csv\", \"bar\", \"circle\", \"8xxx\")\n",
    "plotPrefixChart(\"../data/8xxx-in-mob-prefix.csv\", \"bar\", \"operator\", \"8xxx\")\n",
    "\n",
    "plotPrefixChart(\"../data/7xxx-in-mob-prefix.csv\", \"bar\", \"operator\", \"7xxx\")\n",
    "plotPrefixChart(\"../data/7xxx-in-mob-prefix.csv\", \"bar\", \"circle\", \"7xxx\")\n",
    "\n",
    "plotPrefixChart(\"../data/6xxx-in-mob-prefix.csv\", \"bar\", \"operator\", \"6xxx\")\n",
    "plotPrefixChart(\"../data/6xxx-in-mob-prefix.csv\", \"bar\", \"circle\", \"6xxx\")\n"
   ]
  },
  {
   "cell_type": "markdown",
   "id": "686ebc2b-099a-427a-b6a6-a4355773b7ad",
   "metadata": {},
   "source": [
    "[!img](9xxx-circle-bar.png)\n",
    "\n",
    "![img](9xxx-operator-bar.png)\n",
    "\n",
    "![img](8xxx-circle-bar.png)\n",
    "![img](8xxx-operator-bar.png)\n",
    "\n",
    "![img](7xxx-operator-bar.png)\n",
    "[!img](7xxx-circle-bar.png)\n",
    "\n",
    "\n",
    "\n",
    "![img](6xxx-operator-bar.png)\n",
    "[!img](6xxx-circle-bar.png)\n",
    "\n",
    "\n"
   ]
  }
 ],
 "metadata": {
  "kernelspec": {
   "display_name": "Python 3 (ipykernel)",
   "language": "python",
   "name": "python3"
  },
  "language_info": {
   "codemirror_mode": {
    "name": "ipython",
    "version": 3
   },
   "file_extension": ".py",
   "mimetype": "text/x-python",
   "name": "python",
   "nbconvert_exporter": "python",
   "pygments_lexer": "ipython3",
   "version": "3.12.5"
  }
 },
 "nbformat": 4,
 "nbformat_minor": 5
}
